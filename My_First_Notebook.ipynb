{
  "nbformat": 4,
  "nbformat_minor": 0,
  "metadata": {
    "colab": {
      "name": "My First Notebook",
      "provenance": [],
      "authorship_tag": "ABX9TyN78PNydsAI1UvoMKNM5d5q",
      "include_colab_link": true
    },
    "kernelspec": {
      "name": "python3",
      "display_name": "Python 3"
    },
    "language_info": {
      "name": "python"
    }
  },
  "cells": [
    {
      "cell_type": "markdown",
      "metadata": {
        "id": "view-in-github",
        "colab_type": "text"
      },
      "source": [
        "<a href=\"https://colab.research.google.com/github/avivamao/my-notebooks/blob/main/My_First_Notebook.ipynb\" target=\"_parent\"><img src=\"https://colab.research.google.com/assets/colab-badge.svg\" alt=\"Open In Colab\"/></a>"
      ]
    },
    {
      "cell_type": "code",
      "execution_count": 1,
      "metadata": {
        "colab": {
          "base_uri": "https://localhost:8080/"
        },
        "id": "0dK9u0keuxaR",
        "outputId": "7a78345f-b04b-4aef-ad33-5d703e4d13e7"
      },
      "outputs": [
        {
          "output_type": "stream",
          "name": "stdout",
          "text": [
            "HELLO WORLD!\n",
            "4\n"
          ]
        }
      ],
      "source": [
        "# This is some example Python code\n",
        "# These lines starting with \"#\" are \"comments\"\n",
        "# Remember \"#\" means something different in Markdown than it does in Python\n",
        "\n",
        "print(\"HELLO WORLD!\")\n",
        "\n",
        "x = 2 + 2\n",
        "print(x)"
      ]
    },
    {
      "cell_type": "markdown",
      "source": [
        "this is some text\n",
        "\n",
        "we can write any language (like english)"
      ],
      "metadata": {
        "id": "RgMJDqyNwlFx"
      }
    },
    {
      "cell_type": "code",
      "source": [
        ""
      ],
      "metadata": {
        "id": "SqDJV_o2wfYL"
      },
      "execution_count": null,
      "outputs": []
    },
    {
      "cell_type": "markdown",
      "source": [
        "# My Heading\n",
        "\n",
        "## Heading Level 2\n",
        "\n",
        "here is a list:\n",
        "+ Item 1\n",
        "+ Item 2\n",
        "\n",
        "this is a link: [Google](https://www.google.com/)\n",
        "\n",
        "this is a code block (we'll use in README files):\n",
        "\n",
        "```\n",
        "Print (\"HELLO\")\n",
        "```\n"
      ],
      "metadata": {
        "id": "P5s65dVmwfta"
      }
    }
  ]
}